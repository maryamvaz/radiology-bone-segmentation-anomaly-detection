{
 "cells": [
  {
   "cell_type": "markdown",
   "metadata": {},
   "source": [
    "### U-Net Implementation of Knee Bony Image Segmentation: Training set up\n",
    "#### 3/17/20\n",
    "##### https://towardsdatascience.com/a-keras-pipeline-for-image-segmentation-part-1-6515a421157d"
   ]
  },
  {
   "cell_type": "code",
   "execution_count": 12,
   "metadata": {},
   "outputs": [],
   "source": [
    "import os\n",
    "import random\n",
    "import re\n",
    "from PIL import Image\n",
    "import zipfile as zf"
   ]
  },
  {
   "cell_type": "markdown",
   "metadata": {},
   "source": [
    "##### Location of data directory"
   ]
  },
  {
   "cell_type": "code",
   "execution_count": 2,
   "metadata": {},
   "outputs": [],
   "source": [
    "DATA_PATH = r'C:\\Users\\vazir\\Desktop/data_dir'\n",
    "FRAME_PATH = r'C:\\Users\\vazir\\Desktop/data_dir/frames/'\n",
    "MASK_PATH = r'C:\\Users\\vazir\\Desktop/data_dir/masks/'"
   ]
  },
  {
   "cell_type": "markdown",
   "metadata": {},
   "source": [
    "##### Create folders for storing images and masks\n"
   ]
  },
  {
   "cell_type": "code",
   "execution_count": 3,
   "metadata": {},
   "outputs": [],
   "source": [
    "folders = ['train_frames', 'train_masks', 'val_frames', 'val_masks', 'test_frames', 'test_masks']\n",
    "\n",
    "for folder in folders:\n",
    "  os.makedirs(os.path.join(DATA_PATH, folder))"
   ]
  },
  {
   "cell_type": "markdown",
   "metadata": {},
   "source": [
    "##### Randomize split of train, test, and val\n",
    "##### List the files, sort them, and then shuffle them "
   ]
  },
  {
   "cell_type": "code",
   "execution_count": 4,
   "metadata": {},
   "outputs": [],
   "source": [
    "all_frames = os.listdir(FRAME_PATH)\n",
    "all_masks = os.listdir(MASK_PATH)"
   ]
  },
  {
   "cell_type": "code",
   "execution_count": 5,
   "metadata": {},
   "outputs": [],
   "source": [
    "all_frames.sort(key=lambda var:[int(x) if x.isdigit() else x \n",
    "                                for x in re.findall(r'[^0-9]|[0-9]+', var)])\n",
    "all_masks.sort(key=lambda var:[int(x) if x.isdigit() else x \n",
    "                               for x in re.findall(r'[^0-9]|[0-9]+', var)])\n",
    "random.seed(230)\n",
    "random.shuffle(all_frames)"
   ]
  },
  {
   "cell_type": "markdown",
   "metadata": {},
   "source": [
    "##### Generate train, val, and test sets for frames\n",
    "##### Using 70–20–10 ratio for train, val, and test sets "
   ]
  },
  {
   "cell_type": "code",
   "execution_count": 6,
   "metadata": {},
   "outputs": [],
   "source": [
    "train_split = int(0.7*len(all_frames))\n",
    "val_split = int(0.9*len(all_frames))\n",
    "\n",
    "train_frames = all_frames[:train_split]\n",
    "val_frames = all_frames[train_split:val_split]\n",
    "test_frames = all_frames[val_split:]"
   ]
  },
  {
   "cell_type": "markdown",
   "metadata": {},
   "source": [
    "##### Create corresponding mask sets"
   ]
  },
  {
   "cell_type": "code",
   "execution_count": 7,
   "metadata": {},
   "outputs": [],
   "source": [
    "train_masks = [f for f in all_masks if f in train_frames]\n",
    "val_masks = [f for f in all_masks if f in val_frames]\n",
    "test_masks = [f for f in all_masks if f in test_frames]"
   ]
  },
  {
   "cell_type": "markdown",
   "metadata": {},
   "source": [
    "##### Save the images from these lists to their corresponding folders"
   ]
  },
  {
   "cell_type": "code",
   "execution_count": 8,
   "metadata": {},
   "outputs": [],
   "source": [
    "def add_frames(dir_name, image):\n",
    "  img = Image.open(FRAME_PATH+image)\n",
    "  img.save(DATA_PATH+'/{}'.format(dir_name)+'/'+image)\n",
    "  \n",
    "def add_masks(dir_name, image):\n",
    "  img = Image.open(MASK_PATH+image)\n",
    "  img.save(DATA_PATH+'/{}'.format(dir_name)+'/'+image)\n"
   ]
  },
  {
   "cell_type": "code",
   "execution_count": 9,
   "metadata": {},
   "outputs": [],
   "source": [
    "frame_folders = [(train_frames, 'train_frames'), (val_frames, 'val_frames'), \n",
    "                 (test_frames, 'test_frames')]\n",
    "mask_folders = [(train_masks, 'train_masks'), (val_masks, 'val_masks'), \n",
    "                (test_masks, 'test_masks')]"
   ]
  },
  {
   "cell_type": "markdown",
   "metadata": {},
   "source": [
    "##### Mapping each image to the add_frames() and add_masks() functions respectively "
   ]
  },
  {
   "cell_type": "code",
   "execution_count": 10,
   "metadata": {},
   "outputs": [],
   "source": [
    "for folder in frame_folders:\n",
    "  \n",
    "  array = folder[0]\n",
    "  name = [folder[1]] * len(array)\n",
    "\n",
    "  list(map(add_frames, name, array))   \n",
    "\n",
    "for folder in mask_folders:\n",
    "  \n",
    "  array = folder[0]\n",
    "  name = [folder[1]] * len(array)\n",
    "  \n",
    "  list(map(add_masks, name, array))"
   ]
  }
 ],
 "metadata": {
  "kernelspec": {
   "display_name": "Python 3",
   "language": "python",
   "name": "python3"
  },
  "language_info": {
   "codemirror_mode": {
    "name": "ipython",
    "version": 3
   },
   "file_extension": ".py",
   "mimetype": "text/x-python",
   "name": "python",
   "nbconvert_exporter": "python",
   "pygments_lexer": "ipython3",
   "version": "3.7.4"
  }
 },
 "nbformat": 4,
 "nbformat_minor": 4
}
