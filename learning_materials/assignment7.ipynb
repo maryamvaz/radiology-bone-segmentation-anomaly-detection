{
 "cells": [
  {
   "cell_type": "markdown",
   "metadata": {},
   "source": [
    "### Maryam Vazirabad\n",
    "### Assignment 7\n",
    "### 10/28/19\n",
    "### Using Flowers Recognition Dataset found here:\n",
    "### https://www.kaggle.com/alxmamaev/flowers-recognition\n",
    "### This dataset has 5 categories of images (for each type of flower we are attempting to classify) and are about 320x240 pixels"
   ]
  },
  {
   "cell_type": "code",
   "execution_count": 1,
   "metadata": {},
   "outputs": [
    {
     "name": "stderr",
     "output_type": "stream",
     "text": [
      "Using TensorFlow backend.\n",
      "/Library/Frameworks/Python.framework/Versions/3.7/lib/python3.7/site-packages/tensorflow/python/framework/dtypes.py:516: FutureWarning: Passing (type, 1) or '1type' as a synonym of type is deprecated; in a future version of numpy, it will be understood as (type, (1,)) / '(1,)type'.\n",
      "  _np_qint8 = np.dtype([(\"qint8\", np.int8, 1)])\n",
      "/Library/Frameworks/Python.framework/Versions/3.7/lib/python3.7/site-packages/tensorflow/python/framework/dtypes.py:517: FutureWarning: Passing (type, 1) or '1type' as a synonym of type is deprecated; in a future version of numpy, it will be understood as (type, (1,)) / '(1,)type'.\n",
      "  _np_quint8 = np.dtype([(\"quint8\", np.uint8, 1)])\n",
      "/Library/Frameworks/Python.framework/Versions/3.7/lib/python3.7/site-packages/tensorflow/python/framework/dtypes.py:518: FutureWarning: Passing (type, 1) or '1type' as a synonym of type is deprecated; in a future version of numpy, it will be understood as (type, (1,)) / '(1,)type'.\n",
      "  _np_qint16 = np.dtype([(\"qint16\", np.int16, 1)])\n",
      "/Library/Frameworks/Python.framework/Versions/3.7/lib/python3.7/site-packages/tensorflow/python/framework/dtypes.py:519: FutureWarning: Passing (type, 1) or '1type' as a synonym of type is deprecated; in a future version of numpy, it will be understood as (type, (1,)) / '(1,)type'.\n",
      "  _np_quint16 = np.dtype([(\"quint16\", np.uint16, 1)])\n",
      "/Library/Frameworks/Python.framework/Versions/3.7/lib/python3.7/site-packages/tensorflow/python/framework/dtypes.py:520: FutureWarning: Passing (type, 1) or '1type' as a synonym of type is deprecated; in a future version of numpy, it will be understood as (type, (1,)) / '(1,)type'.\n",
      "  _np_qint32 = np.dtype([(\"qint32\", np.int32, 1)])\n",
      "/Library/Frameworks/Python.framework/Versions/3.7/lib/python3.7/site-packages/tensorflow/python/framework/dtypes.py:525: FutureWarning: Passing (type, 1) or '1type' as a synonym of type is deprecated; in a future version of numpy, it will be understood as (type, (1,)) / '(1,)type'.\n",
      "  np_resource = np.dtype([(\"resource\", np.ubyte, 1)])\n",
      "/Library/Frameworks/Python.framework/Versions/3.7/lib/python3.7/site-packages/tensorboard/compat/tensorflow_stub/dtypes.py:541: FutureWarning: Passing (type, 1) or '1type' as a synonym of type is deprecated; in a future version of numpy, it will be understood as (type, (1,)) / '(1,)type'.\n",
      "  _np_qint8 = np.dtype([(\"qint8\", np.int8, 1)])\n",
      "/Library/Frameworks/Python.framework/Versions/3.7/lib/python3.7/site-packages/tensorboard/compat/tensorflow_stub/dtypes.py:542: FutureWarning: Passing (type, 1) or '1type' as a synonym of type is deprecated; in a future version of numpy, it will be understood as (type, (1,)) / '(1,)type'.\n",
      "  _np_quint8 = np.dtype([(\"quint8\", np.uint8, 1)])\n",
      "/Library/Frameworks/Python.framework/Versions/3.7/lib/python3.7/site-packages/tensorboard/compat/tensorflow_stub/dtypes.py:543: FutureWarning: Passing (type, 1) or '1type' as a synonym of type is deprecated; in a future version of numpy, it will be understood as (type, (1,)) / '(1,)type'.\n",
      "  _np_qint16 = np.dtype([(\"qint16\", np.int16, 1)])\n",
      "/Library/Frameworks/Python.framework/Versions/3.7/lib/python3.7/site-packages/tensorboard/compat/tensorflow_stub/dtypes.py:544: FutureWarning: Passing (type, 1) or '1type' as a synonym of type is deprecated; in a future version of numpy, it will be understood as (type, (1,)) / '(1,)type'.\n",
      "  _np_quint16 = np.dtype([(\"quint16\", np.uint16, 1)])\n",
      "/Library/Frameworks/Python.framework/Versions/3.7/lib/python3.7/site-packages/tensorboard/compat/tensorflow_stub/dtypes.py:545: FutureWarning: Passing (type, 1) or '1type' as a synonym of type is deprecated; in a future version of numpy, it will be understood as (type, (1,)) / '(1,)type'.\n",
      "  _np_qint32 = np.dtype([(\"qint32\", np.int32, 1)])\n",
      "/Library/Frameworks/Python.framework/Versions/3.7/lib/python3.7/site-packages/tensorboard/compat/tensorflow_stub/dtypes.py:550: FutureWarning: Passing (type, 1) or '1type' as a synonym of type is deprecated; in a future version of numpy, it will be understood as (type, (1,)) / '(1,)type'.\n",
      "  np_resource = np.dtype([(\"resource\", np.ubyte, 1)])\n"
     ]
    }
   ],
   "source": [
    "import numpy as np\n",
    "import seaborn as sns\n",
    "import pandas as pd\n",
    "from scipy.io import loadmat\n",
    "import matplotlib.pyplot as plt\n",
    "import os\n",
    "import gc\n",
    "from skimage import color\n",
    "from skimage import io\n",
    "from sklearn.model_selection import train_test_split\n",
    "from keras import layers\n",
    "from keras import models\n",
    "from keras import optimizers\n",
    "from keras.preprocessing.image import ImageDataGenerator\n",
    "from keras.preprocessing.image import img_to_array, load_img\n",
    "from sklearn.preprocessing import OneHotEncoder\n",
    "from keras.utils.np_utils import to_categorical\n",
    "import cv2"
   ]
  },
  {
   "cell_type": "markdown",
   "metadata": {},
   "source": [
    "#### Got help from these examples:\n",
    "#### CNN example from class and preprocessing help with this particular dataset from \n",
    "#### https://www.kaggle.com/epiktroll/flowers-recognition-with-custom-cnn"
   ]
  },
  {
   "cell_type": "markdown",
   "metadata": {},
   "source": [
    "#### Next, we unzip the files into input directory"
   ]
  },
  {
   "cell_type": "code",
   "execution_count": 2,
   "metadata": {},
   "outputs": [],
   "source": [
    "import zipfile as zf\n",
    "files = zf.ZipFile(\"flowers-recognition.zip\", 'r')\n",
    "files.extractall('../input')\n",
    "files.close()"
   ]
  },
  {
   "cell_type": "code",
   "execution_count": 3,
   "metadata": {},
   "outputs": [
    {
     "name": "stdout",
     "output_type": "stream",
     "text": [
      "['flowers', '.ipynb_checkpoints']\n"
     ]
    }
   ],
   "source": [
    "print(os.listdir(\"../input\"))"
   ]
  },
  {
   "cell_type": "markdown",
   "metadata": {},
   "source": [
    "#### Resizing the images for each type of flower in the flowers folder (daisy, dandelion, rose, sunflower, and tulip). We are reducing into 32x32 images:"
   ]
  },
  {
   "cell_type": "code",
   "execution_count": 4,
   "metadata": {},
   "outputs": [],
   "source": [
    "x_ = list()\n",
    "y = list()\n",
    "for i in os.listdir(\"../input/flowers/flowers/daisy\"):\n",
    "    try:\n",
    "        path = \"../input/flowers/flowers/daisy/\"+i\n",
    "        img = plt.imread(path)\n",
    "        img = cv2.resize(img,(32,32))\n",
    "        x_.append(img)\n",
    "        y.append(0)\n",
    "    except:\n",
    "        None\n",
    "for i in os.listdir(\"../input/flowers/flowers/dandelion\"):\n",
    "    try:\n",
    "        path = \"../input/flowers/flowers/dandelion/\"+i\n",
    "        img = plt.imread(path)\n",
    "        img = cv2.resize(img,(32,32))\n",
    "        x_.append(img)\n",
    "        y.append(1)\n",
    "    except:\n",
    "        None\n",
    "for i in os.listdir(\"../input/flowers/flowers/rose\"):\n",
    "    try:\n",
    "        path = \"../input/flowers/flowers/rose/\"+i\n",
    "        img = plt.imread(path)\n",
    "        img = cv2.resize(img,(32,32))\n",
    "        x_.append(img)\n",
    "        y.append(2)\n",
    "    except:\n",
    "        None\n",
    "for i in os.listdir(\"../input/flowers/flowers/sunflower\"):\n",
    "    try:\n",
    "        path = \"../input/flowers/flowers/sunflower/\"+i\n",
    "        img = plt.imread(path)\n",
    "        img = cv2.resize(img,(32,32))\n",
    "        x_.append(img)\n",
    "        y.append(3)\n",
    "    except:\n",
    "        None\n",
    "for i in os.listdir(\"../input/flowers/flowers/tulip\"):\n",
    "    try:\n",
    "        path = \"../input/flowers/flowers/tulip/\"+i\n",
    "        img = plt.imread(path)\n",
    "        img = cv2.resize(img,(32,32))\n",
    "        x_.append(img)\n",
    "        y.append(4)\n",
    "    except:\n",
    "        None\n",
    "x_ = np.array(x_)"
   ]
  },
  {
   "cell_type": "markdown",
   "metadata": {},
   "source": [
    "#### Visualizing one of all flower types in data (5 total):"
   ]
  },
  {
   "cell_type": "code",
   "execution_count": 5,
   "metadata": {},
   "outputs": [
    {
     "data": {
      "image/png": "[encoded data removed]",
      "text/plain": [
       "<Figure size 1440x1440 with 5 Axes>"
      ]
     },
     "metadata": {
      "needs_background": "light"
     },
     "output_type": "display_data"
    }
   ],
   "source": [
    "plt.figure(figsize = (20,20))\n",
    "for i in range(5):\n",
    "    img = x_[950*i]\n",
    "    plt.subplot(1,5,i+1)\n",
    "    plt.imshow(img)\n",
    "    plt.axis(\"off\")\n",
    "    plt.title(y[950*i])"
   ]
  },
  {
   "cell_type": "code",
   "execution_count": 6,
   "metadata": {},
   "outputs": [],
   "source": [
    "y = to_categorical(y,num_classes = 5)"
   ]
  },
  {
   "cell_type": "markdown",
   "metadata": {},
   "source": [
    "#### Time to split test and train datasets:"
   ]
  },
  {
   "cell_type": "code",
   "execution_count": 7,
   "metadata": {},
   "outputs": [],
   "source": [
    "X_train,X_test,y_train,y_test = train_test_split(x_,y,test_size = 0.15,random_state = 42)"
   ]
  },
  {
   "cell_type": "markdown",
   "metadata": {},
   "source": [
    "#### Getting the shape of the X_train , y_train , X_test and y_test data:"
   ]
  },
  {
   "cell_type": "code",
   "execution_count": 8,
   "metadata": {},
   "outputs": [
    {
     "name": "stdout",
     "output_type": "stream",
     "text": [
      "x_train shape: (3674, 32, 32, 3)\n",
      "y_train shape: (3674, 5)\n",
      "x_test shape: (649, 32, 32, 3)\n",
      "y_test shape: (649, 5)\n"
     ]
    }
   ],
   "source": [
    "print('x_train shape:', X_train.shape)\n",
    "print('y_train shape:', y_train.shape)\n",
    "print('x_test shape:', X_test.shape)\n",
    "print('y_test shape:', y_test.shape)"
   ]
  },
  {
   "cell_type": "code",
   "execution_count": 9,
   "metadata": {},
   "outputs": [],
   "source": [
    "#Converting labels from 5 to 1\n",
    "y_train[y_train == 5] = 0\n",
    "y_test[y_test == 5] = 0"
   ]
  },
  {
   "cell_type": "markdown",
   "metadata": {},
   "source": [
    "#### Creating the model:"
   ]
  },
  {
   "cell_type": "code",
   "execution_count": 10,
   "metadata": {},
   "outputs": [
    {
     "name": "stdout",
     "output_type": "stream",
     "text": [
      "WARNING:tensorflow:From /Library/Frameworks/Python.framework/Versions/3.7/lib/python3.7/site-packages/keras/backend/tensorflow_backend.py:66: The name tf.get_default_graph is deprecated. Please use tf.compat.v1.get_default_graph instead.\n",
      "\n",
      "WARNING:tensorflow:From /Library/Frameworks/Python.framework/Versions/3.7/lib/python3.7/site-packages/keras/backend/tensorflow_backend.py:541: The name tf.placeholder is deprecated. Please use tf.compat.v1.placeholder instead.\n",
      "\n",
      "WARNING:tensorflow:From /Library/Frameworks/Python.framework/Versions/3.7/lib/python3.7/site-packages/keras/backend/tensorflow_backend.py:4432: The name tf.random_uniform is deprecated. Please use tf.random.uniform instead.\n",
      "\n",
      "WARNING:tensorflow:From /Library/Frameworks/Python.framework/Versions/3.7/lib/python3.7/site-packages/keras/backend/tensorflow_backend.py:148: The name tf.placeholder_with_default is deprecated. Please use tf.compat.v1.placeholder_with_default instead.\n",
      "\n",
      "WARNING:tensorflow:From /Library/Frameworks/Python.framework/Versions/3.7/lib/python3.7/site-packages/keras/backend/tensorflow_backend.py:3733: calling dropout (from tensorflow.python.ops.nn_ops) with keep_prob is deprecated and will be removed in a future version.\n",
      "Instructions for updating:\n",
      "Please use `rate` instead of `keep_prob`. Rate should be set to `rate = 1 - keep_prob`.\n",
      "WARNING:tensorflow:From /Library/Frameworks/Python.framework/Versions/3.7/lib/python3.7/site-packages/keras/backend/tensorflow_backend.py:4267: The name tf.nn.max_pool is deprecated. Please use tf.nn.max_pool2d instead.\n",
      "\n"
     ]
    }
   ],
   "source": [
    "model = models.Sequential()\n",
    "#adding the first convolution layer to extract the features first\n",
    "# 3x3 relu\n",
    "#input shape 32,32,3\n",
    "model.add(layers.Conv2D(32, (3,3), activation='relu',input_shape=(32,32,3)))\n",
    "#Adding dropout of .2\n",
    "model.add(layers.Dropout(.2))\n",
    "#Create another layer without the input_shape\n",
    "model.add(layers.Conv2D(32, (3,3), activation='relu'))\n",
    "#Add pooling layer with a 2x2 pixel filter to get the max element from the feature maps. Reduces the \n",
    "#dimension of the feature maps by half\n",
    "#error given if padding is not set to SAME\n",
    "model.add(layers.MaxPooling2D(pool_size=(2, 2), padding='SAME'))\n",
    "#64 neurons in this layer\n",
    "model.add(layers.Conv2D(64, (3,3), activation='relu'))\n",
    "model.add(layers.Dropout(.2))\n",
    "#64 neurons\n",
    "model.add(layers.Conv2D(64, (3,3), activation='relu'))\n",
    "model.add(layers.MaxPooling2D(pool_size=(2, 2), padding='SAME'))\n",
    "#now 128 neurons\n",
    "model.add(layers.Conv2D(128, (3,3), activation='relu'))\n",
    "model.add(layers.Dropout(.2))\n",
    "#128 neurons\n",
    "model.add(layers.Conv2D(128, (3,3), activation='relu'))\n",
    "model.add(layers.MaxPooling2D(pool_size=(2, 2), padding='SAME'))\n",
    "\n",
    "#Adding flattening layer to reduce the image to a linear array\n",
    "model.add(layers.Flatten())\n",
    "model.add(layers.Dropout(.2))\n",
    "#1024 neurons \n",
    "model.add(layers.Dense(1024, activation='relu'))\n",
    "model.add(layers.Dropout(.2))\n",
    "#512 neurons\n",
    "model.add(layers.Dense(512, activation='relu'))\n",
    "model.add(layers.Dropout(.2))\n",
    "\n",
    "#Create the last layer of this neural network with 5 neurons using the softmax function\n",
    "model.add(layers.Dense(5, activation='softmax'))"
   ]
  },
  {
   "cell_type": "markdown",
   "metadata": {},
   "source": [
    "#### Summarizing the model:"
   ]
  },
  {
   "cell_type": "code",
   "execution_count": 11,
   "metadata": {},
   "outputs": [
    {
     "name": "stdout",
     "output_type": "stream",
     "text": [
      "Model: \"sequential_1\"\n",
      "_________________________________________________________________\n",
      "Layer (type)                 Output Shape              Param #   \n",
      "=================================================================\n",
      "conv2d_1 (Conv2D)            (None, 30, 30, 32)        896       \n",
      "_________________________________________________________________\n",
      "dropout_1 (Dropout)          (None, 30, 30, 32)        0         \n",
      "_________________________________________________________________\n",
      "conv2d_2 (Conv2D)            (None, 28, 28, 32)        9248      \n",
      "_________________________________________________________________\n",
      "max_pooling2d_1 (MaxPooling2 (None, 14, 14, 32)        0         \n",
      "_________________________________________________________________\n",
      "conv2d_3 (Conv2D)            (None, 12, 12, 64)        18496     \n",
      "_________________________________________________________________\n",
      "dropout_2 (Dropout)          (None, 12, 12, 64)        0         \n",
      "_________________________________________________________________\n",
      "conv2d_4 (Conv2D)            (None, 10, 10, 64)        36928     \n",
      "_________________________________________________________________\n",
      "max_pooling2d_2 (MaxPooling2 (None, 5, 5, 64)          0         \n",
      "_________________________________________________________________\n",
      "conv2d_5 (Conv2D)            (None, 3, 3, 128)         73856     \n",
      "_________________________________________________________________\n",
      "dropout_3 (Dropout)          (None, 3, 3, 128)         0         \n",
      "_________________________________________________________________\n",
      "conv2d_6 (Conv2D)            (None, 1, 1, 128)         147584    \n",
      "_________________________________________________________________\n",
      "max_pooling2d_3 (MaxPooling2 (None, 1, 1, 128)         0         \n",
      "_________________________________________________________________\n",
      "flatten_1 (Flatten)          (None, 128)               0         \n",
      "_________________________________________________________________\n",
      "dropout_4 (Dropout)          (None, 128)               0         \n",
      "_________________________________________________________________\n",
      "dense_1 (Dense)              (None, 1024)              132096    \n",
      "_________________________________________________________________\n",
      "dropout_5 (Dropout)          (None, 1024)              0         \n",
      "_________________________________________________________________\n",
      "dense_2 (Dense)              (None, 512)               524800    \n",
      "_________________________________________________________________\n",
      "dropout_6 (Dropout)          (None, 512)               0         \n",
      "_________________________________________________________________\n",
      "dense_3 (Dense)              (None, 5)                 2565      \n",
      "=================================================================\n",
      "Total params: 946,469\n",
      "Trainable params: 946,469\n",
      "Non-trainable params: 0\n",
      "_________________________________________________________________\n"
     ]
    }
   ],
   "source": [
    "model.summary()"
   ]
  },
  {
   "cell_type": "markdown",
   "metadata": {},
   "source": [
    "#### Compiling the model with specific loss function, optimizier, and accuracy metrics:"
   ]
  },
  {
   "cell_type": "code",
   "execution_count": 12,
   "metadata": {},
   "outputs": [
    {
     "name": "stdout",
     "output_type": "stream",
     "text": [
      "WARNING:tensorflow:From /Library/Frameworks/Python.framework/Versions/3.7/lib/python3.7/site-packages/keras/optimizers.py:793: The name tf.train.Optimizer is deprecated. Please use tf.compat.v1.train.Optimizer instead.\n",
      "\n",
      "WARNING:tensorflow:From /Library/Frameworks/Python.framework/Versions/3.7/lib/python3.7/site-packages/keras/backend/tensorflow_backend.py:3576: The name tf.log is deprecated. Please use tf.math.log instead.\n",
      "\n"
     ]
    }
   ],
   "source": [
    "model.compile(loss='categorical_crossentropy', optimizer='adam',metrics=['accuracy'])"
   ]
  },
  {
   "cell_type": "markdown",
   "metadata": {},
   "source": [
    "#### Fitting the model with batch size as 256, epochs as 50, and splitting the data with 30% as validation:"
   ]
  },
  {
   "cell_type": "code",
   "execution_count": 13,
   "metadata": {},
   "outputs": [
    {
     "name": "stdout",
     "output_type": "stream",
     "text": [
      "WARNING:tensorflow:From /Library/Frameworks/Python.framework/Versions/3.7/lib/python3.7/site-packages/tensorflow/python/ops/math_grad.py:1250: add_dispatch_support.<locals>.wrapper (from tensorflow.python.ops.array_ops) is deprecated and will be removed in a future version.\n",
      "Instructions for updating:\n",
      "Use tf.where in 2.0, which has the same broadcast rule as np.where\n",
      "Train on 2571 samples, validate on 1103 samples\n",
      "Epoch 1/50\n",
      "2571/2571 [==============================] - 9s 4ms/step - loss: 3.5896 - acc: 0.2159 - val_loss: 1.5947 - val_acc: 0.2321\n",
      "Epoch 2/50\n",
      "2571/2571 [==============================] - 7s 3ms/step - loss: 1.5946 - acc: 0.2482 - val_loss: 1.5108 - val_acc: 0.3182\n",
      "Epoch 3/50\n",
      "2571/2571 [==============================] - 7s 3ms/step - loss: 1.5185 - acc: 0.2886 - val_loss: 1.4898 - val_acc: 0.3255\n",
      "Epoch 4/50\n",
      "2571/2571 [==============================] - 7s 3ms/step - loss: 1.4618 - acc: 0.2952 - val_loss: 1.4088 - val_acc: 0.3218\n",
      "Epoch 5/50\n",
      "2571/2571 [==============================] - 7s 3ms/step - loss: 1.4118 - acc: 0.3314 - val_loss: 1.4755 - val_acc: 0.2747\n",
      "Epoch 6/50\n",
      "2571/2571 [==============================] - 7s 3ms/step - loss: 1.4535 - acc: 0.3162 - val_loss: 1.3881 - val_acc: 0.3590\n",
      "Epoch 7/50\n",
      "2571/2571 [==============================] - 7s 3ms/step - loss: 1.4190 - acc: 0.3458 - val_loss: 1.3877 - val_acc: 0.3889\n",
      "Epoch 8/50\n",
      "2571/2571 [==============================] - 7s 3ms/step - loss: 1.3753 - acc: 0.3753 - val_loss: 1.3896 - val_acc: 0.3345\n",
      "Epoch 9/50\n",
      "2571/2571 [==============================] - 7s 3ms/step - loss: 1.3801 - acc: 0.3715 - val_loss: 1.3789 - val_acc: 0.3608\n",
      "Epoch 10/50\n",
      "2571/2571 [==============================] - 7s 3ms/step - loss: 1.3468 - acc: 0.3687 - val_loss: 1.2918 - val_acc: 0.4470\n",
      "Epoch 11/50\n",
      "2571/2571 [==============================] - 7s 3ms/step - loss: 1.3205 - acc: 0.4173 - val_loss: 1.3543 - val_acc: 0.4370\n",
      "Epoch 12/50\n",
      "2571/2571 [==============================] - 7s 3ms/step - loss: 1.3128 - acc: 0.4290 - val_loss: 1.2603 - val_acc: 0.4524\n",
      "Epoch 13/50\n",
      "2571/2571 [==============================] - 7s 3ms/step - loss: 1.2572 - acc: 0.4601 - val_loss: 1.2504 - val_acc: 0.5295\n",
      "Epoch 14/50\n",
      "2571/2571 [==============================] - 7s 3ms/step - loss: 1.2168 - acc: 0.4839 - val_loss: 1.2485 - val_acc: 0.4578\n",
      "Epoch 15/50\n",
      "2571/2571 [==============================] - 7s 3ms/step - loss: 1.2482 - acc: 0.4718 - val_loss: 1.2418 - val_acc: 0.5258\n",
      "Epoch 16/50\n",
      "2571/2571 [==============================] - 7s 3ms/step - loss: 1.1837 - acc: 0.5060 - val_loss: 1.2559 - val_acc: 0.5059\n",
      "Epoch 17/50\n",
      "2571/2571 [==============================] - 8s 3ms/step - loss: 1.1800 - acc: 0.5138 - val_loss: 1.2514 - val_acc: 0.4977\n",
      "Epoch 18/50\n",
      "2571/2571 [==============================] - 8s 3ms/step - loss: 1.1687 - acc: 0.5266 - val_loss: 1.1816 - val_acc: 0.5666\n",
      "Epoch 19/50\n",
      "2571/2571 [==============================] - 7s 3ms/step - loss: 1.1355 - acc: 0.5336 - val_loss: 1.1457 - val_acc: 0.5503\n",
      "Epoch 20/50\n",
      "2571/2571 [==============================] - 8s 3ms/step - loss: 1.1135 - acc: 0.5406 - val_loss: 1.1775 - val_acc: 0.5041\n",
      "Epoch 21/50\n",
      "2571/2571 [==============================] - 7s 3ms/step - loss: 1.2285 - acc: 0.5088 - val_loss: 1.1886 - val_acc: 0.5639\n",
      "Epoch 22/50\n",
      "2571/2571 [==============================] - 8s 3ms/step - loss: 1.1350 - acc: 0.5305 - val_loss: 1.0851 - val_acc: 0.5784\n",
      "Epoch 23/50\n",
      "2571/2571 [==============================] - 7s 3ms/step - loss: 1.1062 - acc: 0.5578 - val_loss: 1.0583 - val_acc: 0.5902\n",
      "Epoch 24/50\n",
      "2571/2571 [==============================] - 8s 3ms/step - loss: 1.0754 - acc: 0.5461 - val_loss: 1.0815 - val_acc: 0.5567\n",
      "Epoch 25/50\n",
      "2571/2571 [==============================] - 7s 3ms/step - loss: 1.0312 - acc: 0.5842 - val_loss: 1.1770 - val_acc: 0.4923\n",
      "Epoch 26/50\n",
      "2571/2571 [==============================] - 7s 3ms/step - loss: 1.0944 - acc: 0.5449 - val_loss: 1.0529 - val_acc: 0.5694\n",
      "Epoch 27/50\n",
      "2571/2571 [==============================] - 7s 3ms/step - loss: 1.0364 - acc: 0.5858 - val_loss: 1.0672 - val_acc: 0.5521\n",
      "Epoch 28/50\n",
      "2571/2571 [==============================] - 7s 3ms/step - loss: 1.0145 - acc: 0.6029 - val_loss: 1.0688 - val_acc: 0.5648\n",
      "Epoch 29/50\n",
      "2571/2571 [==============================] - 7s 3ms/step - loss: 1.0078 - acc: 0.6002 - val_loss: 1.0304 - val_acc: 0.5984\n",
      "Epoch 30/50\n",
      "2571/2571 [==============================] - 7s 3ms/step - loss: 1.0012 - acc: 0.5963 - val_loss: 0.9879 - val_acc: 0.5993\n",
      "Epoch 31/50\n",
      "2571/2571 [==============================] - 7s 3ms/step - loss: 0.9528 - acc: 0.6180 - val_loss: 1.0218 - val_acc: 0.5766\n",
      "Epoch 32/50\n",
      "2571/2571 [==============================] - 7s 3ms/step - loss: 0.9518 - acc: 0.6239 - val_loss: 0.9962 - val_acc: 0.6201\n",
      "Epoch 33/50\n",
      "2571/2571 [==============================] - 7s 3ms/step - loss: 0.9728 - acc: 0.6188 - val_loss: 0.9910 - val_acc: 0.6111\n",
      "Epoch 34/50\n",
      "2571/2571 [==============================] - 7s 3ms/step - loss: 0.9188 - acc: 0.6402 - val_loss: 1.0290 - val_acc: 0.5666\n",
      "Epoch 35/50\n",
      "2571/2571 [==============================] - 7s 3ms/step - loss: 0.9615 - acc: 0.6180 - val_loss: 1.0139 - val_acc: 0.5875\n",
      "Epoch 36/50\n",
      "2571/2571 [==============================] - 8s 3ms/step - loss: 0.8968 - acc: 0.6398 - val_loss: 0.9964 - val_acc: 0.5947\n",
      "Epoch 37/50\n",
      "2571/2571 [==============================] - 8s 3ms/step - loss: 0.9103 - acc: 0.6476 - val_loss: 0.9961 - val_acc: 0.5911\n",
      "Epoch 38/50\n",
      "2571/2571 [==============================] - 7s 3ms/step - loss: 0.8624 - acc: 0.6671 - val_loss: 1.0144 - val_acc: 0.5956\n",
      "Epoch 39/50\n",
      "2571/2571 [==============================] - 8s 3ms/step - loss: 0.9059 - acc: 0.6577 - val_loss: 0.9618 - val_acc: 0.6129\n",
      "Epoch 40/50\n",
      "2571/2571 [==============================] - 8s 3ms/step - loss: 0.8041 - acc: 0.6834 - val_loss: 0.9154 - val_acc: 0.6482\n",
      "Epoch 41/50\n",
      "2571/2571 [==============================] - 8s 3ms/step - loss: 0.8326 - acc: 0.6651 - val_loss: 1.0118 - val_acc: 0.5920\n",
      "Epoch 42/50\n",
      "2571/2571 [==============================] - 11s 4ms/step - loss: 0.8972 - acc: 0.6410 - val_loss: 0.9855 - val_acc: 0.6129\n",
      "Epoch 43/50\n",
      "2571/2571 [==============================] - 17s 7ms/step - loss: 0.8188 - acc: 0.6896 - val_loss: 0.9691 - val_acc: 0.6310\n",
      "Epoch 44/50\n",
      "2571/2571 [==============================] - 16s 6ms/step - loss: 0.7970 - acc: 0.6873 - val_loss: 0.9971 - val_acc: 0.5938\n",
      "Epoch 45/50\n",
      "2571/2571 [==============================] - 15s 6ms/step - loss: 0.8057 - acc: 0.6888 - val_loss: 0.9562 - val_acc: 0.6183\n",
      "Epoch 46/50\n",
      "2571/2571 [==============================] - 10s 4ms/step - loss: 0.7338 - acc: 0.7110 - val_loss: 0.9928 - val_acc: 0.6301\n",
      "Epoch 47/50\n",
      "2571/2571 [==============================] - 9s 3ms/step - loss: 0.7464 - acc: 0.7095 - val_loss: 0.9859 - val_acc: 0.6192\n",
      "Epoch 48/50\n",
      "2571/2571 [==============================] - 8s 3ms/step - loss: 0.7601 - acc: 0.6966 - val_loss: 1.0942 - val_acc: 0.6129\n",
      "Epoch 49/50\n",
      "2571/2571 [==============================] - 8s 3ms/step - loss: 0.7761 - acc: 0.6958 - val_loss: 0.9419 - val_acc: 0.6401\n",
      "Epoch 50/50\n",
      "2571/2571 [==============================] - 8s 3ms/step - loss: 0.7276 - acc: 0.7110 - val_loss: 0.9370 - val_acc: 0.6401\n"
     ]
    }
   ],
   "source": [
    "hist = model.fit(X_train, y_train, batch_size=256, epochs=50, validation_split=0.3)"
   ]
  },
  {
   "cell_type": "markdown",
   "metadata": {},
   "source": [
    "#### Evaluating the model:"
   ]
  },
  {
   "cell_type": "code",
   "execution_count": 14,
   "metadata": {},
   "outputs": [
    {
     "name": "stdout",
     "output_type": "stream",
     "text": [
      "649/649 [==============================] - 1s 966us/step\n"
     ]
    },
    {
     "data": {
      "text/plain": [
       "[0.9502987707340846, 0.6517719571322249]"
      ]
     },
     "execution_count": 14,
     "metadata": {},
     "output_type": "execute_result"
    }
   ],
   "source": [
    "model.evaluate(X_test, y_test)"
   ]
  },
  {
   "cell_type": "markdown",
   "metadata": {},
   "source": [
    "#### Plotting model accuracy to the number of epochs:"
   ]
  },
  {
   "cell_type": "code",
   "execution_count": 15,
   "metadata": {},
   "outputs": [
    {
     "data": {
      "image/png": "[encoded data removed]",
      "text/plain": [
       "<Figure size 432x288 with 1 Axes>"
      ]
     },
     "metadata": {
      "needs_background": "light"
     },
     "output_type": "display_data"
    }
   ],
   "source": [
    "plt.plot(hist.history['acc'])\n",
    "plt.plot(hist.history['val_acc'])\n",
    "plt.title('Model accuracy')\n",
    "plt.ylabel('Accuracy')\n",
    "plt.xlabel('Epoch')\n",
    "plt.legend(['Train', 'Val'], loc='upper left')\n",
    "plt.show()"
   ]
  },
  {
   "cell_type": "markdown",
   "metadata": {},
   "source": [
    "#### Plotting the model loss to the number of epochs:"
   ]
  },
  {
   "cell_type": "code",
   "execution_count": 16,
   "metadata": {},
   "outputs": [
    {
     "data": {
      "image/png": "[encoded data removed]",
      "text/plain": [
       "<Figure size 432x288 with 1 Axes>"
      ]
     },
     "metadata": {
      "needs_background": "light"
     },
     "output_type": "display_data"
    }
   ],
   "source": [
    "plt.plot(hist.history['loss'])\n",
    "plt.plot(hist.history['val_loss'])\n",
    "plt.title('Model loss')\n",
    "plt.ylabel('Loss')\n",
    "plt.xlabel('Epoch')\n",
    "plt.legend(['Train', 'Val'], loc='upper right')\n",
    "plt.show()"
   ]
  },
  {
   "cell_type": "markdown",
   "metadata": {},
   "source": [
    "#### The model used on the flower dataset did not come out to be very accurate. After running 50 epochs, the accuracy came to be about 65.2%.The model's loss came to be around .72 after 50 epochs. The train and validation sets came to be similar values and directly related after 50 epochs as well.\n",
    "\n",
    "#### This is not a good accuracy or loss score, which either means I have created an ineffective model for classification of these flowers, or I've done something wrong that is skewing my accuracy to be very low.\n"
   ]
  }
 ],
 "metadata": {
  "kernelspec": {
   "display_name": "Python 3",
   "language": "python",
   "name": "python3"
  },
  "language_info": {
   "codemirror_mode": {
    "name": "ipython",
    "version": 3
   },
   "file_extension": ".py",
   "mimetype": "text/x-python",
   "name": "python",
   "nbconvert_exporter": "python",
   "pygments_lexer": "ipython3",
   "version": "3.7.4"
  }
 },
 "nbformat": 4,
 "nbformat_minor": 4
}
