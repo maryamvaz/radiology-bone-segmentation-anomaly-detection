{
 "cells": [
  {
   "cell_type": "code",
   "execution_count": 1,
   "metadata": {},
   "outputs": [],
   "source": [
    "import pandas as pd\n",
    "import matplotlib.pyplot as plt\n"
   ]
  },
  {
   "cell_type": "code",
   "execution_count": 2,
   "metadata": {},
   "outputs": [
    {
     "data": {
      "text/html": [
       "<div>\n",
       "<style scoped>\n",
       "    .dataframe tbody tr th:only-of-type {\n",
       "        vertical-align: middle;\n",
       "    }\n",
       "\n",
       "    .dataframe tbody tr th {\n",
       "        vertical-align: top;\n",
       "    }\n",
       "\n",
       "    .dataframe thead th {\n",
       "        text-align: right;\n",
       "    }\n",
       "</style>\n",
       "<table border=\"1\" class=\"dataframe\">\n",
       "  <thead>\n",
       "    <tr style=\"text-align: right;\">\n",
       "      <th></th>\n",
       "      <th>id</th>\n",
       "      <th>VERSION</th>\n",
       "      <th>cohort</th>\n",
       "      <th>V00AGE</th>\n",
       "      <th>P02SEX</th>\n",
       "      <th>P02RACE</th>\n",
       "      <th>P02HISP</th>\n",
       "      <th>VisitType12</th>\n",
       "      <th>VisitType18</th>\n",
       "      <th>VisitType24</th>\n",
       "      <th>...</th>\n",
       "      <th>V99ERHBLRP</th>\n",
       "      <th>V99ELHBLRP</th>\n",
       "      <th>V99ERHRPCF</th>\n",
       "      <th>V99ELHRPCF</th>\n",
       "      <th>V99ERHRPSN</th>\n",
       "      <th>V99ELHRPSN</th>\n",
       "      <th>V99ERKVSRP</th>\n",
       "      <th>V99ELKVSRP</th>\n",
       "      <th>V99ERHVSRP</th>\n",
       "      <th>V99ELHVSRP</th>\n",
       "    </tr>\n",
       "  </thead>\n",
       "  <tbody>\n",
       "    <tr>\n",
       "      <td>0</td>\n",
       "      <td>9000099</td>\n",
       "      <td>11</td>\n",
       "      <td>Progression</td>\n",
       "      <td>59</td>\n",
       "      <td>1: Male</td>\n",
       "      <td>1: White or Caucasian</td>\n",
       "      <td>0: No</td>\n",
       "      <td>Clinic visit</td>\n",
       "      <td>NaN</td>\n",
       "      <td>Clinic visit</td>\n",
       "      <td>...</td>\n",
       "      <td>.A: Not Expected</td>\n",
       "      <td>.A: Not Expected</td>\n",
       "      <td>.A: Not Expected</td>\n",
       "      <td>.A: Not Expected</td>\n",
       "      <td>.A: Not Expected</td>\n",
       "      <td>.A: Not Expected</td>\n",
       "      <td>.A: Not Expected</td>\n",
       "      <td>.A: Not Expected</td>\n",
       "      <td>.A: Not Expected</td>\n",
       "      <td>.A: Not Expected</td>\n",
       "    </tr>\n",
       "    <tr>\n",
       "      <td>1</td>\n",
       "      <td>9000296</td>\n",
       "      <td>11</td>\n",
       "      <td>Incidence</td>\n",
       "      <td>69</td>\n",
       "      <td>1: Male</td>\n",
       "      <td>1: White or Caucasian</td>\n",
       "      <td>0: No</td>\n",
       "      <td>Clinic visit</td>\n",
       "      <td>NaN</td>\n",
       "      <td>Telephone only</td>\n",
       "      <td>...</td>\n",
       "      <td>.A: Not Expected</td>\n",
       "      <td>.A: Not Expected</td>\n",
       "      <td>.A: Not Expected</td>\n",
       "      <td>.A: Not Expected</td>\n",
       "      <td>.A: Not Expected</td>\n",
       "      <td>.A: Not Expected</td>\n",
       "      <td>.A: Not Expected</td>\n",
       "      <td>.A: Not Expected</td>\n",
       "      <td>.A: Not Expected</td>\n",
       "      <td>.A: Not Expected</td>\n",
       "    </tr>\n",
       "    <tr>\n",
       "      <td>2</td>\n",
       "      <td>9000622</td>\n",
       "      <td>11</td>\n",
       "      <td>Progression</td>\n",
       "      <td>71</td>\n",
       "      <td>2: Female</td>\n",
       "      <td>1: White or Caucasian</td>\n",
       "      <td>0: No</td>\n",
       "      <td>Clinic visit</td>\n",
       "      <td>NaN</td>\n",
       "      <td>Deceased</td>\n",
       "      <td>...</td>\n",
       "      <td>0: No</td>\n",
       "      <td>0: No</td>\n",
       "      <td>.A: Not Expected</td>\n",
       "      <td>.A: Not Expected</td>\n",
       "      <td>.A: Not Expected</td>\n",
       "      <td>.A: Not Expected</td>\n",
       "      <td>.A: Not Expected</td>\n",
       "      <td>.A: Not Expected</td>\n",
       "      <td>.A: Not Expected</td>\n",
       "      <td>.A: Not Expected</td>\n",
       "    </tr>\n",
       "    <tr>\n",
       "      <td>3</td>\n",
       "      <td>9000798</td>\n",
       "      <td>11</td>\n",
       "      <td>Progression</td>\n",
       "      <td>56</td>\n",
       "      <td>1: Male</td>\n",
       "      <td>1: White or Caucasian</td>\n",
       "      <td>0: No</td>\n",
       "      <td>Clinic visit</td>\n",
       "      <td>Clinic visit</td>\n",
       "      <td>Clinic visit</td>\n",
       "      <td>...</td>\n",
       "      <td>.A: Not Expected</td>\n",
       "      <td>.A: Not Expected</td>\n",
       "      <td>.A: Not Expected</td>\n",
       "      <td>.A: Not Expected</td>\n",
       "      <td>.A: Not Expected</td>\n",
       "      <td>.A: Not Expected</td>\n",
       "      <td>.A: Not Expected</td>\n",
       "      <td>.A: Not Expected</td>\n",
       "      <td>.A: Not Expected</td>\n",
       "      <td>.A: Not Expected</td>\n",
       "    </tr>\n",
       "    <tr>\n",
       "      <td>4</td>\n",
       "      <td>9001104</td>\n",
       "      <td>11</td>\n",
       "      <td>Incidence</td>\n",
       "      <td>72</td>\n",
       "      <td>2: Female</td>\n",
       "      <td>1: White or Caucasian</td>\n",
       "      <td>0: No</td>\n",
       "      <td>Clinic visit</td>\n",
       "      <td>NaN</td>\n",
       "      <td>Telephone only</td>\n",
       "      <td>...</td>\n",
       "      <td>0: No</td>\n",
       "      <td>0: No</td>\n",
       "      <td>.A: Not Expected</td>\n",
       "      <td>3: Replacement adjudicated, confirmed</td>\n",
       "      <td>.A: Not Expected</td>\n",
       "      <td>2: No FU xrays of this knee (or hip)</td>\n",
       "      <td>.A: Not Expected</td>\n",
       "      <td>.A: Not Expected</td>\n",
       "      <td>.A: Not Expected</td>\n",
       "      <td>10: 96-month</td>\n",
       "    </tr>\n",
       "  </tbody>\n",
       "</table>\n",
       "<p>5 rows × 381 columns</p>\n",
       "</div>"
      ],
      "text/plain": [
       "        id  VERSION       cohort  V00AGE     P02SEX                P02RACE  \\\n",
       "0  9000099       11  Progression      59    1: Male  1: White or Caucasian   \n",
       "1  9000296       11    Incidence      69    1: Male  1: White or Caucasian   \n",
       "2  9000622       11  Progression      71  2: Female  1: White or Caucasian   \n",
       "3  9000798       11  Progression      56    1: Male  1: White or Caucasian   \n",
       "4  9001104       11    Incidence      72  2: Female  1: White or Caucasian   \n",
       "\n",
       "  P02HISP   VisitType12   VisitType18     VisitType24  ...        V99ERHBLRP  \\\n",
       "0   0: No  Clinic visit           NaN    Clinic visit  ...  .A: Not Expected   \n",
       "1   0: No  Clinic visit           NaN  Telephone only  ...  .A: Not Expected   \n",
       "2   0: No  Clinic visit           NaN        Deceased  ...             0: No   \n",
       "3   0: No  Clinic visit  Clinic visit    Clinic visit  ...  .A: Not Expected   \n",
       "4   0: No  Clinic visit           NaN  Telephone only  ...             0: No   \n",
       "\n",
       "         V99ELHBLRP        V99ERHRPCF                             V99ELHRPCF  \\\n",
       "0  .A: Not Expected  .A: Not Expected                       .A: Not Expected   \n",
       "1  .A: Not Expected  .A: Not Expected                       .A: Not Expected   \n",
       "2             0: No  .A: Not Expected                       .A: Not Expected   \n",
       "3  .A: Not Expected  .A: Not Expected                       .A: Not Expected   \n",
       "4             0: No  .A: Not Expected  3: Replacement adjudicated, confirmed   \n",
       "\n",
       "         V99ERHRPSN                            V99ELHRPSN        V99ERKVSRP  \\\n",
       "0  .A: Not Expected                      .A: Not Expected  .A: Not Expected   \n",
       "1  .A: Not Expected                      .A: Not Expected  .A: Not Expected   \n",
       "2  .A: Not Expected                      .A: Not Expected  .A: Not Expected   \n",
       "3  .A: Not Expected                      .A: Not Expected  .A: Not Expected   \n",
       "4  .A: Not Expected  2: No FU xrays of this knee (or hip)  .A: Not Expected   \n",
       "\n",
       "         V99ELKVSRP        V99ERHVSRP        V99ELHVSRP  \n",
       "0  .A: Not Expected  .A: Not Expected  .A: Not Expected  \n",
       "1  .A: Not Expected  .A: Not Expected  .A: Not Expected  \n",
       "2  .A: Not Expected  .A: Not Expected  .A: Not Expected  \n",
       "3  .A: Not Expected  .A: Not Expected  .A: Not Expected  \n",
       "4  .A: Not Expected  .A: Not Expected      10: 96-month  \n",
       "\n",
       "[5 rows x 381 columns]"
      ]
     },
     "execution_count": 2,
     "metadata": {},
     "output_type": "execute_result"
    }
   ],
   "source": [
    "df = pd.read_csv('MeasInventory.csv')\n",
    "df.head()"
   ]
  },
  {
   "cell_type": "code",
   "execution_count": 3,
   "metadata": {},
   "outputs": [],
   "source": [
    "x = df['P02SEX'].value_counts()"
   ]
  },
  {
   "cell_type": "code",
   "execution_count": 4,
   "metadata": {},
   "outputs": [
    {
     "data": {
      "text/plain": [
       "<matplotlib.axes._subplots.AxesSubplot at 0x1160ef6d0>"
      ]
     },
     "execution_count": 4,
     "metadata": {},
     "output_type": "execute_result"
    },
    {
     "data": {
      "image/png": "[encoded data removed]",
      "text/plain": [
       "<Figure size 432x288 with 1 Axes>"
      ]
     },
     "metadata": {},
     "output_type": "display_data"
    }
   ],
   "source": [
    "x.plot(kind = 'pie' , autopct='%.1f%%')"
   ]
  },
  {
   "cell_type": "code",
   "execution_count": 5,
   "metadata": {},
   "outputs": [
    {
     "data": {
      "text/plain": [
       "1: White or Caucasian               3790\n",
       "2: Black or African American         874\n",
       "0: Other Non-white                    82\n",
       "3: Asian                              45\n",
       ".D: Don t Know/Unknown/Uncertain       3\n",
       ".R: Refused                            2\n",
       "Name: P02RACE, dtype: int64"
      ]
     },
     "execution_count": 5,
     "metadata": {},
     "output_type": "execute_result"
    }
   ],
   "source": [
    "races = df['P02RACE'].value_counts().index\n",
    "totals = df['P02RACE'].value_counts()\n",
    "\n",
    "totals"
   ]
  },
  {
   "cell_type": "code",
   "execution_count": 6,
   "metadata": {},
   "outputs": [
    {
     "data": {
      "text/plain": [
       "[79.02, 18.22, 1.71, 0.94, 0.06, 0.04]"
      ]
     },
     "execution_count": 6,
     "metadata": {},
     "output_type": "execute_result"
    }
   ],
   "source": [
    "x = 0\n",
    "percents = []\n",
    "for x in range(len(races)):\n",
    "    percents = percents + [ round((totals[x]/sum(totals)) * 100,2)]\n",
    "    \n",
    "percents"
   ]
  },
  {
   "cell_type": "code",
   "execution_count": 7,
   "metadata": {},
   "outputs": [
    {
     "data": {
      "text/plain": [
       "<matplotlib.legend.Legend at 0x10480ed50>"
      ]
     },
     "execution_count": 7,
     "metadata": {},
     "output_type": "execute_result"
    },
    {
     "data": {
      "image/png": "[encoded data removed]",
      "text/plain": [
       "<Figure size 1080x432 with 1 Axes>"
      ]
     },
     "metadata": {},
     "output_type": "display_data"
    }
   ],
   "source": [
    "totals.plot(kind = 'pie' , figsize=(15, 6), labels = None)\n",
    "\n",
    "labs = []\n",
    "x = 0\n",
    "for x in range(len(races)):\n",
    "    race = races[x]\n",
    "    labs = labs + [race[race.find(' ')+1:] + \" \" + str(round((totals[x]/sum(totals)) * 100,2)) + \"%\"]\n",
    "\n",
    "plt.axis('equal') \n",
    "\n",
    "plt.legend(labels=labs, loc='upper left') \n"
   ]
  }
 ],
 "metadata": {
  "kernelspec": {
   "display_name": "Python 3",
   "language": "python",
   "name": "python3"
  },
  "language_info": {
   "codemirror_mode": {
    "name": "ipython",
    "version": 3
   },
   "file_extension": ".py",
   "mimetype": "text/x-python",
   "name": "python",
   "nbconvert_exporter": "python",
   "pygments_lexer": "ipython3",
   "version": "3.7.4"
  }
 },
 "nbformat": 4,
 "nbformat_minor": 2
}
