{
 "cells": [
  {
   "cell_type": "markdown",
   "metadata": {},
   "source": [
    "## OAI Dataset: Quick Data Exploration of Participant Information\n",
    "### Matthew Vue and Maryam Vazirabad\n",
    "### 1/30/2020\n",
    "\n",
    "#### Data is publicly available on https://nda.nih.gov/oai/"
   ]
  },
  {
   "cell_type": "code",
   "execution_count": 1,
   "metadata": {},
   "outputs": [],
   "source": [
    "import pandas as pd\n",
    "import numpy as np\n",
    "import matplotlib.pyplot as plt\n",
    "import seaborn as sns"
   ]
  },
  {
   "cell_type": "markdown",
   "metadata": {},
   "source": [
    "#### Loading in data and taking a peek:"
   ]
  },
  {
   "cell_type": "code",
   "execution_count": 2,
   "metadata": {},
   "outputs": [
    {
     "data": {
      "text/html": [
       "<div>\n",
       "<style scoped>\n",
       "    .dataframe tbody tr th:only-of-type {\n",
       "        vertical-align: middle;\n",
       "    }\n",
       "\n",
       "    .dataframe tbody tr th {\n",
       "        vertical-align: top;\n",
       "    }\n",
       "\n",
       "    .dataframe thead th {\n",
       "        text-align: right;\n",
       "    }\n",
       "</style>\n",
       "<table border=\"1\" class=\"dataframe\">\n",
       "  <thead>\n",
       "    <tr style=\"text-align: right;\">\n",
       "      <th></th>\n",
       "      <th>id</th>\n",
       "      <th>VERSION</th>\n",
       "      <th>cohort</th>\n",
       "      <th>V00AGE</th>\n",
       "      <th>P02SEX</th>\n",
       "      <th>P02RACE</th>\n",
       "      <th>P02HISP</th>\n",
       "      <th>VisitType12</th>\n",
       "      <th>VisitType18</th>\n",
       "      <th>VisitType24</th>\n",
       "      <th>...</th>\n",
       "      <th>V99ERHBLRP</th>\n",
       "      <th>V99ELHBLRP</th>\n",
       "      <th>V99ERHRPCF</th>\n",
       "      <th>V99ELHRPCF</th>\n",
       "      <th>V99ERHRPSN</th>\n",
       "      <th>V99ELHRPSN</th>\n",
       "      <th>V99ERKVSRP</th>\n",
       "      <th>V99ELKVSRP</th>\n",
       "      <th>V99ERHVSRP</th>\n",
       "      <th>V99ELHVSRP</th>\n",
       "    </tr>\n",
       "  </thead>\n",
       "  <tbody>\n",
       "    <tr>\n",
       "      <td>0</td>\n",
       "      <td>9000099</td>\n",
       "      <td>11</td>\n",
       "      <td>Progression</td>\n",
       "      <td>59</td>\n",
       "      <td>1: Male</td>\n",
       "      <td>1: White or Caucasian</td>\n",
       "      <td>0: No</td>\n",
       "      <td>Clinic visit</td>\n",
       "      <td>NaN</td>\n",
       "      <td>Clinic visit</td>\n",
       "      <td>...</td>\n",
       "      <td>.A: Not Expected</td>\n",
       "      <td>.A: Not Expected</td>\n",
       "      <td>.A: Not Expected</td>\n",
       "      <td>.A: Not Expected</td>\n",
       "      <td>.A: Not Expected</td>\n",
       "      <td>.A: Not Expected</td>\n",
       "      <td>.A: Not Expected</td>\n",
       "      <td>.A: Not Expected</td>\n",
       "      <td>.A: Not Expected</td>\n",
       "      <td>.A: Not Expected</td>\n",
       "    </tr>\n",
       "    <tr>\n",
       "      <td>1</td>\n",
       "      <td>9000296</td>\n",
       "      <td>11</td>\n",
       "      <td>Incidence</td>\n",
       "      <td>69</td>\n",
       "      <td>1: Male</td>\n",
       "      <td>1: White or Caucasian</td>\n",
       "      <td>0: No</td>\n",
       "      <td>Clinic visit</td>\n",
       "      <td>NaN</td>\n",
       "      <td>Telephone only</td>\n",
       "      <td>...</td>\n",
       "      <td>.A: Not Expected</td>\n",
       "      <td>.A: Not Expected</td>\n",
       "      <td>.A: Not Expected</td>\n",
       "      <td>.A: Not Expected</td>\n",
       "      <td>.A: Not Expected</td>\n",
       "      <td>.A: Not Expected</td>\n",
       "      <td>.A: Not Expected</td>\n",
       "      <td>.A: Not Expected</td>\n",
       "      <td>.A: Not Expected</td>\n",
       "      <td>.A: Not Expected</td>\n",
       "    </tr>\n",
       "    <tr>\n",
       "      <td>2</td>\n",
       "      <td>9000622</td>\n",
       "      <td>11</td>\n",
       "      <td>Progression</td>\n",
       "      <td>71</td>\n",
       "      <td>2: Female</td>\n",
       "      <td>1: White or Caucasian</td>\n",
       "      <td>0: No</td>\n",
       "      <td>Clinic visit</td>\n",
       "      <td>NaN</td>\n",
       "      <td>Deceased</td>\n",
       "      <td>...</td>\n",
       "      <td>0: No</td>\n",
       "      <td>0: No</td>\n",
       "      <td>.A: Not Expected</td>\n",
       "      <td>.A: Not Expected</td>\n",
       "      <td>.A: Not Expected</td>\n",
       "      <td>.A: Not Expected</td>\n",
       "      <td>.A: Not Expected</td>\n",
       "      <td>.A: Not Expected</td>\n",
       "      <td>.A: Not Expected</td>\n",
       "      <td>.A: Not Expected</td>\n",
       "    </tr>\n",
       "    <tr>\n",
       "      <td>3</td>\n",
       "      <td>9000798</td>\n",
       "      <td>11</td>\n",
       "      <td>Progression</td>\n",
       "      <td>56</td>\n",
       "      <td>1: Male</td>\n",
       "      <td>1: White or Caucasian</td>\n",
       "      <td>0: No</td>\n",
       "      <td>Clinic visit</td>\n",
       "      <td>Clinic visit</td>\n",
       "      <td>Clinic visit</td>\n",
       "      <td>...</td>\n",
       "      <td>.A: Not Expected</td>\n",
       "      <td>.A: Not Expected</td>\n",
       "      <td>.A: Not Expected</td>\n",
       "      <td>.A: Not Expected</td>\n",
       "      <td>.A: Not Expected</td>\n",
       "      <td>.A: Not Expected</td>\n",
       "      <td>.A: Not Expected</td>\n",
       "      <td>.A: Not Expected</td>\n",
       "      <td>.A: Not Expected</td>\n",
       "      <td>.A: Not Expected</td>\n",
       "    </tr>\n",
       "    <tr>\n",
       "      <td>4</td>\n",
       "      <td>9001104</td>\n",
       "      <td>11</td>\n",
       "      <td>Incidence</td>\n",
       "      <td>72</td>\n",
       "      <td>2: Female</td>\n",
       "      <td>1: White or Caucasian</td>\n",
       "      <td>0: No</td>\n",
       "      <td>Clinic visit</td>\n",
       "      <td>NaN</td>\n",
       "      <td>Telephone only</td>\n",
       "      <td>...</td>\n",
       "      <td>0: No</td>\n",
       "      <td>0: No</td>\n",
       "      <td>.A: Not Expected</td>\n",
       "      <td>3: Replacement adjudicated, confirmed</td>\n",
       "      <td>.A: Not Expected</td>\n",
       "      <td>2: No FU xrays of this knee (or hip)</td>\n",
       "      <td>.A: Not Expected</td>\n",
       "      <td>.A: Not Expected</td>\n",
       "      <td>.A: Not Expected</td>\n",
       "      <td>10: 96-month</td>\n",
       "    </tr>\n",
       "  </tbody>\n",
       "</table>\n",
       "<p>5 rows × 381 columns</p>\n",
       "</div>"
      ],
      "text/plain": [
       "        id  VERSION       cohort  V00AGE     P02SEX                P02RACE  \\\n",
       "0  9000099       11  Progression      59    1: Male  1: White or Caucasian   \n",
       "1  9000296       11    Incidence      69    1: Male  1: White or Caucasian   \n",
       "2  9000622       11  Progression      71  2: Female  1: White or Caucasian   \n",
       "3  9000798       11  Progression      56    1: Male  1: White or Caucasian   \n",
       "4  9001104       11    Incidence      72  2: Female  1: White or Caucasian   \n",
       "\n",
       "  P02HISP   VisitType12   VisitType18     VisitType24  ...        V99ERHBLRP  \\\n",
       "0   0: No  Clinic visit           NaN    Clinic visit  ...  .A: Not Expected   \n",
       "1   0: No  Clinic visit           NaN  Telephone only  ...  .A: Not Expected   \n",
       "2   0: No  Clinic visit           NaN        Deceased  ...             0: No   \n",
       "3   0: No  Clinic visit  Clinic visit    Clinic visit  ...  .A: Not Expected   \n",
       "4   0: No  Clinic visit           NaN  Telephone only  ...             0: No   \n",
       "\n",
       "         V99ELHBLRP        V99ERHRPCF                             V99ELHRPCF  \\\n",
       "0  .A: Not Expected  .A: Not Expected                       .A: Not Expected   \n",
       "1  .A: Not Expected  .A: Not Expected                       .A: Not Expected   \n",
       "2             0: No  .A: Not Expected                       .A: Not Expected   \n",
       "3  .A: Not Expected  .A: Not Expected                       .A: Not Expected   \n",
       "4             0: No  .A: Not Expected  3: Replacement adjudicated, confirmed   \n",
       "\n",
       "         V99ERHRPSN                            V99ELHRPSN        V99ERKVSRP  \\\n",
       "0  .A: Not Expected                      .A: Not Expected  .A: Not Expected   \n",
       "1  .A: Not Expected                      .A: Not Expected  .A: Not Expected   \n",
       "2  .A: Not Expected                      .A: Not Expected  .A: Not Expected   \n",
       "3  .A: Not Expected                      .A: Not Expected  .A: Not Expected   \n",
       "4  .A: Not Expected  2: No FU xrays of this knee (or hip)  .A: Not Expected   \n",
       "\n",
       "         V99ELKVSRP        V99ERHVSRP        V99ELHVSRP  \n",
       "0  .A: Not Expected  .A: Not Expected  .A: Not Expected  \n",
       "1  .A: Not Expected  .A: Not Expected  .A: Not Expected  \n",
       "2  .A: Not Expected  .A: Not Expected  .A: Not Expected  \n",
       "3  .A: Not Expected  .A: Not Expected  .A: Not Expected  \n",
       "4  .A: Not Expected  .A: Not Expected      10: 96-month  \n",
       "\n",
       "[5 rows x 381 columns]"
      ]
     },
     "execution_count": 2,
     "metadata": {},
     "output_type": "execute_result"
    }
   ],
   "source": [
    "df = pd.read_csv('Copy of MeasInventory.csv')\n",
    "df.head(5)"
   ]
  },
  {
   "cell_type": "markdown",
   "metadata": {},
   "source": [
    "#### Taking a glance at the column headers, there appears to be a lot of data elements that don't particularly concern us. At least for right now, let's take a look at participant age (V00AGE), sex (P02SEX),and race (P02RACE and P02HISP).\n",
    "#### There are 4796 participants total:"
   ]
  },
  {
   "cell_type": "code",
   "execution_count": 3,
   "metadata": {},
   "outputs": [
    {
     "name": "stdout",
     "output_type": "stream",
     "text": [
      "<class 'pandas.core.frame.DataFrame'>\n",
      "RangeIndex: 4796 entries, 0 to 4795\n",
      "Columns: 381 entries, id to V99ELHVSRP\n",
      "dtypes: int64(3), object(378)\n",
      "memory usage: 13.9+ MB\n"
     ]
    }
   ],
   "source": [
    "df.info()"
   ]
  },
  {
   "cell_type": "markdown",
   "metadata": {},
   "source": [
    "#### Looking at the min, max, and mean values of V00AGE: youngest participant is 45 years old, oldest is 79, and mean age is around 61."
   ]
  },
  {
   "cell_type": "code",
   "execution_count": 4,
   "metadata": {},
   "outputs": [
    {
     "data": {
      "text/html": [
       "<div>\n",
       "<style scoped>\n",
       "    .dataframe tbody tr th:only-of-type {\n",
       "        vertical-align: middle;\n",
       "    }\n",
       "\n",
       "    .dataframe tbody tr th {\n",
       "        vertical-align: top;\n",
       "    }\n",
       "\n",
       "    .dataframe thead th {\n",
       "        text-align: right;\n",
       "    }\n",
       "</style>\n",
       "<table border=\"1\" class=\"dataframe\">\n",
       "  <thead>\n",
       "    <tr style=\"text-align: right;\">\n",
       "      <th></th>\n",
       "      <th>id</th>\n",
       "      <th>VERSION</th>\n",
       "      <th>V00AGE</th>\n",
       "    </tr>\n",
       "  </thead>\n",
       "  <tbody>\n",
       "    <tr>\n",
       "      <td>count</td>\n",
       "      <td>4.796000e+03</td>\n",
       "      <td>4796.0</td>\n",
       "      <td>4796.000000</td>\n",
       "    </tr>\n",
       "    <tr>\n",
       "      <td>mean</td>\n",
       "      <td>9.513826e+06</td>\n",
       "      <td>11.0</td>\n",
       "      <td>61.158465</td>\n",
       "    </tr>\n",
       "    <tr>\n",
       "      <td>std</td>\n",
       "      <td>2.794781e+05</td>\n",
       "      <td>0.0</td>\n",
       "      <td>9.190120</td>\n",
       "    </tr>\n",
       "    <tr>\n",
       "      <td>min</td>\n",
       "      <td>9.000099e+06</td>\n",
       "      <td>11.0</td>\n",
       "      <td>45.000000</td>\n",
       "    </tr>\n",
       "    <tr>\n",
       "      <td>25%</td>\n",
       "      <td>9.283430e+06</td>\n",
       "      <td>11.0</td>\n",
       "      <td>53.000000</td>\n",
       "    </tr>\n",
       "    <tr>\n",
       "      <td>50%</td>\n",
       "      <td>9.522042e+06</td>\n",
       "      <td>11.0</td>\n",
       "      <td>61.000000</td>\n",
       "    </tr>\n",
       "    <tr>\n",
       "      <td>75%</td>\n",
       "      <td>9.747572e+06</td>\n",
       "      <td>11.0</td>\n",
       "      <td>69.000000</td>\n",
       "    </tr>\n",
       "    <tr>\n",
       "      <td>max</td>\n",
       "      <td>9.999878e+06</td>\n",
       "      <td>11.0</td>\n",
       "      <td>79.000000</td>\n",
       "    </tr>\n",
       "  </tbody>\n",
       "</table>\n",
       "</div>"
      ],
      "text/plain": [
       "                 id  VERSION       V00AGE\n",
       "count  4.796000e+03   4796.0  4796.000000\n",
       "mean   9.513826e+06     11.0    61.158465\n",
       "std    2.794781e+05      0.0     9.190120\n",
       "min    9.000099e+06     11.0    45.000000\n",
       "25%    9.283430e+06     11.0    53.000000\n",
       "50%    9.522042e+06     11.0    61.000000\n",
       "75%    9.747572e+06     11.0    69.000000\n",
       "max    9.999878e+06     11.0    79.000000"
      ]
     },
     "execution_count": 4,
     "metadata": {},
     "output_type": "execute_result"
    }
   ],
   "source": [
    "df.describe()"
   ]
  },
  {
   "cell_type": "markdown",
   "metadata": {},
   "source": [
    "#### Distribution of participant age (45-79):"
   ]
  },
  {
   "cell_type": "code",
   "execution_count": 5,
   "metadata": {},
   "outputs": [
    {
     "data": {
      "image/png": "[encoded data removed]",
      "text/plain": [
       "<Figure size 1080x432 with 1 Axes>"
      ]
     },
     "metadata": {
      "needs_background": "light"
     },
     "output_type": "display_data"
    }
   ],
   "source": [
    "plt.figure(figsize=(15,6))\n",
    "sns.countplot(x='V00AGE',data = df)\n",
    "plt.show()"
   ]
  },
  {
   "cell_type": "markdown",
   "metadata": {},
   "source": [
    "#### Now let's take a look at participant sex. There is a bias for female participants (58.5% are women):"
   ]
  },
  {
   "cell_type": "code",
   "execution_count": 6,
   "metadata": {},
   "outputs": [
    {
     "data": {
      "text/plain": [
       "2: Female    2804\n",
       "1: Male      1992\n",
       "Name: P02SEX, dtype: int64"
      ]
     },
     "execution_count": 6,
     "metadata": {},
     "output_type": "execute_result"
    }
   ],
   "source": [
    "x = df['P02SEX'].value_counts()\n",
    "x"
   ]
  },
  {
   "cell_type": "code",
   "execution_count": 7,
   "metadata": {},
   "outputs": [
    {
     "data": {
      "text/plain": [
       "<matplotlib.axes._subplots.AxesSubplot at 0x17532792b08>"
      ]
     },
     "execution_count": 7,
     "metadata": {},
     "output_type": "execute_result"
    },
    {
     "data": {
      "image/png": "[encoded data removed]",
      "text/plain": [
       "<Figure size 432x288 with 1 Axes>"
      ]
     },
     "metadata": {},
     "output_type": "display_data"
    }
   ],
   "source": [
    "x.plot(kind = 'pie' , autopct='%.1f%%')"
   ]
  },
  {
   "cell_type": "markdown",
   "metadata": {},
   "source": [
    "#### Let's check out participant race:"
   ]
  },
  {
   "cell_type": "code",
   "execution_count": 8,
   "metadata": {},
   "outputs": [
    {
     "data": {
      "text/plain": [
       "1: White or Caucasian               3790\n",
       "2: Black or African American         874\n",
       "0: Other Non-white                    82\n",
       "3: Asian                              45\n",
       ".D: Don t Know/Unknown/Uncertain       3\n",
       ".R: Refused                            2\n",
       "Name: P02RACE, dtype: int64"
      ]
     },
     "execution_count": 8,
     "metadata": {},
     "output_type": "execute_result"
    }
   ],
   "source": [
    "races = df['P02RACE'].value_counts().index\n",
    "totals = df['P02RACE'].value_counts()\n",
    "totals"
   ]
  },
  {
   "cell_type": "code",
   "execution_count": 9,
   "metadata": {},
   "outputs": [],
   "source": [
    "x = 0\n",
    "percents = []\n",
    "for x in range(len(races)):\n",
    "    percents = percents + [ round((totals[x]/sum(totals)) * 100,2)]\n",
    "    "
   ]
  },
  {
   "cell_type": "markdown",
   "metadata": {},
   "source": [
    "#### Very little hispanic representation:"
   ]
  },
  {
   "cell_type": "code",
   "execution_count": 10,
   "metadata": {},
   "outputs": [
    {
     "data": {
      "text/plain": [
       "0: No                               4734\n",
       "1: Yes                                60\n",
       ".R: Refused                            1\n",
       ".D: Don t Know/Unknown/Uncertain       1\n",
       "Name: P02HISP, dtype: int64"
      ]
     },
     "execution_count": 10,
     "metadata": {},
     "output_type": "execute_result"
    }
   ],
   "source": [
    "hispanic = df['P02HISP'].value_counts().index\n",
    "h_totals = df['P02HISP'].value_counts()\n",
    "h_totals"
   ]
  },
  {
   "cell_type": "markdown",
   "metadata": {},
   "source": [
    "#### The race distribution could be more representative of the demographics of the United States.\n",
    "#### The study needs more asian participation as well as hispanic:"
   ]
  },
  {
   "cell_type": "code",
   "execution_count": 11,
   "metadata": {},
   "outputs": [
    {
     "data": {
      "text/plain": [
       "<matplotlib.legend.Legend at 0x175325cb948>"
      ]
     },
     "execution_count": 11,
     "metadata": {},
     "output_type": "execute_result"
    },
    {
     "data": {
      "image/png": "[encoded data removed]",
      "text/plain": [
       "<Figure size 1080x432 with 1 Axes>"
      ]
     },
     "metadata": {},
     "output_type": "display_data"
    }
   ],
   "source": [
    "totals.plot(kind = 'pie' , figsize=(15, 6), labels = None)\n",
    "labs = []\n",
    "x = 0\n",
    "for x in range(len(races)):\n",
    "    race = races[x]\n",
    "    labs = labs + [race[race.find(' ')+1:] + \" \" + str(round((totals[x]/sum(totals)) * 100,2)) + \"%\"]\n",
    "\n",
    "plt.axis('equal') \n",
    "plt.legend(labels=labs, loc='upper left') "
   ]
  },
  {
   "cell_type": "markdown",
   "metadata": {},
   "source": [
    " ##### This information matches with what is reported in the Enrollees_Stats document (within the General_ASCII folder)"
   ]
  }
 ],
 "metadata": {
  "kernelspec": {
   "display_name": "Python 3",
   "language": "python",
   "name": "python3"
  },
  "language_info": {
   "codemirror_mode": {
    "name": "ipython",
    "version": 3
   },
   "file_extension": ".py",
   "mimetype": "text/x-python",
   "name": "python",
   "nbconvert_exporter": "python",
   "pygments_lexer": "ipython3",
   "version": "3.7.4"
  }
 },
 "nbformat": 4,
 "nbformat_minor": 4
}
